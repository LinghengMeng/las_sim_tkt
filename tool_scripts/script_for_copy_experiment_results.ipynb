{
 "cells": [
  {
   "cell_type": "code",
   "execution_count": 2,
   "id": "dbcd23d5",
   "metadata": {},
   "outputs": [],
   "source": [
    "import os\n",
    "import shutil"
   ]
  },
  {
   "cell_type": "code",
   "execution_count": 12,
   "id": "bcd27204",
   "metadata": {},
   "outputs": [],
   "source": [
    "exp_data_source_root_dir = '/scratch/lingheng/las_sim_tkt_data/'"
   ]
  },
  {
   "cell_type": "code",
   "execution_count": 10,
   "id": "8eb35b28",
   "metadata": {},
   "outputs": [],
   "source": [
    "exp_data_dest_root_dir = '/scratch/lingheng/las_sim_tkt_data_copy'\n",
    "if not os.path.exists(exp_data_dest_root_dir):\n",
    "    os.makedirs(exp_data_dest_root_dir)"
   ]
  },
  {
   "cell_type": "code",
   "execution_count": 13,
   "id": "2fc90969",
   "metadata": {},
   "outputs": [],
   "source": [
    "exp_run_list = os.listdir(exp_data_source_root_dir)"
   ]
  },
  {
   "cell_type": "code",
   "execution_count": 38,
   "id": "0cd1dd7a",
   "metadata": {},
   "outputs": [
    {
     "name": "stdout",
     "output_type": "stream",
     "text": [
      "Copying PPO_FullProprioception_5sObsWin_NR_Active_SR_Calm_2022-05-09_00-26-08-74\n",
      "Copying exp_run_1_2022-05-06_00-21-21-60_PPO_NR_Proprioception_Active\n",
      "Copying TD3_FullProprioception_2022-05-08_05-08-56-18\n",
      "Copying TD3_FullProprioception_1sObsWin_NR_Active_SR_Calm_2022-05-08_18-38-39-66\n",
      "Copying TD3_FullProprioception_5sObsWin_NR_Active_SR_Calm_2022-05-09_00-11-50-49\n",
      "Copying PPO_FullProprioception_1sObsWin_NR_Active_SR_Calm_2022-05-08_18-40-20-16\n",
      "Copying PPO_FullProprioception_5sObsWin_Active_2022-05-09_02-46-29-58\n",
      "Copying SAC_FullProprioception_5sObsWin_NR_Active_SR_Calm_2022-05-09_00-37-41-19\n",
      "Copying TD3_FullProprioception_5sObsWin_Active_2022-05-09_02-45-12-47\n",
      "Copying SAC_FullProprioception_2sObsWin_Calm_2022-05-08_17-24-00-94\n",
      "Copying PPO_FullProprioception_2sObsWin_Calm_2022-05-08_17-31-57-70\n",
      "Copying TD3_FullProprioception_2sObsWin_2022-05-08_06-18-25-02\n",
      "Copying SAC_FullProprioception_2022-05-08_05-27-38-65\n",
      "Copying SAC_FullProprioception_5sObsWin_Active_2022-05-09_02-30-42-09\n",
      "Copying PPO_FullProprioception_2sObsWin_NR_Active_SR_Calm_2022-05-08_21-46-12-40\n",
      "Copying PPO_FullProprioception_2sObsWin_2022-05-08_06-31-02-12\n",
      "Copying PPO_FullProprioception_2022-05-08_04-30-48-34\n",
      "Copying TD3_FullProprioception_2sObsWin_NR_Active_SR_Calm_2022-05-08_21-45-53-78\n",
      "Copying SAC_FullProprioception_2sObsWin_2022-05-08_06-17-09-83\n",
      "Copying TD3_FullProprioception_2sObsWin_Calm_2022-05-08_17-29-48-32\n",
      "Copying SAC_FullProprioception_1sObsWin_NR_Active_SR_Calm_2022-05-08_18-35-42-11\n",
      "Copying SAC_FullProprioception_2sObsWin_NR_Active_SR_Calm_2022-05-08_21-43-35-52\n"
     ]
    }
   ],
   "source": [
    "for exp_run in exp_run_list:\n",
    "    print('Copying {}'.format(exp_run))\n",
    "    exp_run_source_dir_path = os.path.join(exp_data_source_root_dir, exp_run)\n",
    "    exp_run_py_data_source_dir_path = os.path.join(exp_run_source_dir_path, 'exp_run_data', 'PL-Teaching-Data')\n",
    "    \n",
    "    exp_run_py_data_1_source_dir_name = os.listdir(exp_run_py_data_source_dir_path)[0]\n",
    "    exp_run_py_data_1_source_dir_path = os.path.join(exp_run_py_data_source_dir_path, exp_run_py_data_1_source_dir_name)\n",
    "    exp_run_py_data_2_source_dir_name = os.listdir(exp_run_py_data_1_source_dir_path)[0]\n",
    "    exp_run_py_data_2_source_dir_path = os.path.join(exp_run_py_data_1_source_dir_path, exp_run_py_data_2_source_dir_name)\n",
    "    \n",
    "    # Create detination directory\n",
    "    exp_run_dest_dir_path = os.path.join(exp_data_dest_root_dir, exp_run)\n",
    "    if not os.path.exists(exp_run_dest_dir_path):\n",
    "        os.makedirs(exp_run_dest_dir_path)\n",
    "    \n",
    "    exp_run_py_data_det_dir_path = os.path.join(exp_run_dest_dir_path, 'exp_run_data', 'PL-Teaching-Data')\n",
    "    if not os.path.exists(exp_run_py_data_det_dir_path):\n",
    "        os.makedirs(exp_run_py_data_det_dir_path)\n",
    "    \n",
    "    exp_run_py_data_1_dest_dir_path = os.path.join(exp_run_py_data_det_dir_path, exp_run_py_data_1_source_dir_name)\n",
    "    if not os.path.exists(exp_run_py_data_1_dest_dir_path):\n",
    "        os.makedirs(exp_run_py_data_1_dest_dir_path)\n",
    "        \n",
    "    exp_run_py_data_2_dest_dir_path = os.path.join(exp_run_py_data_det_dir_path, exp_run_py_data_1_source_dir_name, exp_run_py_data_2_source_dir_name)\n",
    "    if not os.path.exists(exp_run_py_data_2_dest_dir_path):\n",
    "        os.makedirs(exp_run_py_data_2_dest_dir_path)\n",
    "        \n",
    "    # Copy data: ['config.json', 'pyt_save', 'progress.txt']\n",
    "    shutil.copyfile(os.path.join(exp_run_py_data_2_source_dir_path, 'config.json'),\n",
    "                    os.path.join(exp_run_py_data_2_dest_dir_path, 'config.json'))\n",
    "    shutil.copyfile(os.path.join(exp_run_py_data_2_source_dir_path, 'progress.txt'),\n",
    "                    os.path.join(exp_run_py_data_2_dest_dir_path, 'progress.txt'))\n",
    "    \n",
    "#     exp_run_py_data_1_dir = os.listdir(exp_run_py_data_source_dir)[0]\n",
    "#     exp_run_py_data_2_dir = os.listdir(os.path.join(exp_run_py_data_source_dir, exp_run_py_data_1_dir))[0]\n",
    "    \n",
    "    \n",
    "    \n",
    "#     ['config.json', 'pyt_save', 'progress.txt']\n",
    "    \n",
    "#     exp_run_py_data_dir = os.path.join(exp_run_py_data_source_dir, exp_run_py_data_1_dir,exp_run_py_data_2_dir)\n",
    "#     print(exp_run_py_data_2_dir)\n",
    "#     os.listdir(exp_run_py_data_2_dir)"
   ]
  },
  {
   "cell_type": "code",
   "execution_count": 21,
   "id": "10e5902e",
   "metadata": {},
   "outputs": [],
   "source": [
    "exp_run_py_data_dir = os.listdir(os.path.join(exp_run_source_dir, 'exp_run_data', 'PL-Teaching-Data'))[0]"
   ]
  },
  {
   "cell_type": "code",
   "execution_count": 25,
   "id": "61f04812",
   "metadata": {},
   "outputs": [],
   "source": [
    "exp_run_py_data_seed_dir = os.listdir(os.path.join(exp_run_source_dir, 'exp_run_data', 'PL-Teaching-Data',exp_run_py_data_dir))[0]"
   ]
  },
  {
   "cell_type": "code",
   "execution_count": 26,
   "id": "47257cb7",
   "metadata": {},
   "outputs": [
    {
     "data": {
      "text/plain": [
       "['config.json', 'pyt_save', 'progress.txt']"
      ]
     },
     "execution_count": 26,
     "metadata": {},
     "output_type": "execute_result"
    }
   ],
   "source": [
    "os.listdir(os.path.join(exp_run_source_dir, 'exp_run_data', 'PL-Teaching-Data',exp_run_py_data_dir, exp_run_py_data_seed_dir))"
   ]
  },
  {
   "cell_type": "code",
   "execution_count": 34,
   "id": "748e2b7e",
   "metadata": {},
   "outputs": [
    {
     "ename": "FileNotFoundError",
     "evalue": "[Errno 2] No such file or directory: '2022-05-08_22-12-30-td3_s0'",
     "output_type": "error",
     "traceback": [
      "\u001b[0;31m---------------------------------------------------------------------------\u001b[0m",
      "\u001b[0;31mFileNotFoundError\u001b[0m                         Traceback (most recent call last)",
      "\u001b[0;32m<ipython-input-34-692a5521d061>\u001b[0m in \u001b[0;36m<module>\u001b[0;34m\u001b[0m\n\u001b[0;32m----> 1\u001b[0;31m \u001b[0mos\u001b[0m\u001b[0;34m.\u001b[0m\u001b[0mlistdir\u001b[0m\u001b[0;34m(\u001b[0m\u001b[0mexp_run_py_data_2_dir\u001b[0m\u001b[0;34m)\u001b[0m\u001b[0;34m\u001b[0m\u001b[0;34m\u001b[0m\u001b[0m\n\u001b[0m",
      "\u001b[0;31mFileNotFoundError\u001b[0m: [Errno 2] No such file or directory: '2022-05-08_22-12-30-td3_s0'"
     ]
    }
   ],
   "source": [
    "os.listdir(exp_run_py_data_2_dir)"
   ]
  },
  {
   "cell_type": "code",
   "execution_count": null,
   "id": "e8c524ab",
   "metadata": {},
   "outputs": [],
   "source": []
  }
 ],
 "metadata": {
  "kernelspec": {
   "display_name": "Python 3",
   "language": "python",
   "name": "python3"
  },
  "language_info": {
   "codemirror_mode": {
    "name": "ipython",
    "version": 3
   },
   "file_extension": ".py",
   "mimetype": "text/x-python",
   "name": "python",
   "nbconvert_exporter": "python",
   "pygments_lexer": "ipython3",
   "version": "3.7.7"
  }
 },
 "nbformat": 4,
 "nbformat_minor": 5
}
