{
 "cells": [
  {
   "cell_type": "markdown",
   "id": "49a84d1b",
   "metadata": {},
   "source": [
    "# Notebook Used To Generate and Submit Scripts"
   ]
  },
  {
   "cell_type": "code",
   "execution_count": 14,
   "id": "e57f5d74",
   "metadata": {},
   "outputs": [],
   "source": [
    "import os"
   ]
  },
  {
   "cell_type": "code",
   "execution_count": 15,
   "id": "f26ea669",
   "metadata": {},
   "outputs": [],
   "source": [
    "new_exp_scripts_dir = '../../las_sim_tkt_new_exp_scripts'\n",
    "if not os.path.exists(new_exp_scripts_dir):\n",
    "    os.makedirs(new_exp_scripts_dir)"
   ]
  },
  {
   "cell_type": "markdown",
   "id": "5ab75da6",
   "metadata": {},
   "source": [
    "## Generate exp_job.sh"
   ]
  },
  {
   "cell_type": "code",
   "execution_count": 16,
   "id": "1c1291fd",
   "metadata": {},
   "outputs": [],
   "source": [
    "exp_job_script_template = './exp_job_tmpl.sh'\n",
    "new_exp_job_script = os.path.join(new_exp_scripts_dir, 'exp_job.sh')"
   ]
  },
  {
   "cell_type": "code",
   "execution_count": 60,
   "id": "aef7a2a9",
   "metadata": {},
   "outputs": [],
   "source": [
    "sbatch_account = 'def-rgorbet'\n",
    "sbatch_gpu = '1'\n",
    "sbatch_nodes = '1'\n",
    "sbatch_ntasks = '4'\n",
    "sbatch_mem_per_cpu = '1024M'\n",
    "sbatch_time_d = 0\n",
    "sbatch_time_h = 10\n",
    "sbatch_time_m = 0\n",
    "\n",
    "exp_run_time = sbatch_time_d*24*60 + sbatch_time_h*60 + sbatch_time_m\n",
    "\n",
    "las_sim_tkt_dir = '/scratch/lingheng/las_sim_tkt'\n",
    "las_sim_tkt_pkg_dir = '/scratch/lingheng/las_sim_tkt_pkg'    # saving packages for offline installation\n",
    "las_sim_tkt_dep_dir = '/scratch/lingheng/las_sim_tkt_dep'    # saving installed shared softwares such as Processing, Node, Miniconda, Mujoco\n",
    "las_sim_tkt_data_dir = '/scratch/lingheng/las_sim_tkt_data'  # saving experiment data\n",
    "\n",
    "nv_driver_version='470.103.01'  # Adapt deriver version to your system: Graham: 470.103.01, Cedar: 510.47.03\n",
    "\n",
    "if (sbatch_gpu == '0' and nv_driver_version != '') or (sbatch_gpu != '0' and nv_driver_version == ''):\n",
    "    raise Warning(\"gpu is allocated, but nv_driver_version is not specified!\")\n",
    "\n",
    "if sbatch_gpu == '0':\n",
    "    sbatch_gpu=''\n",
    "else:\n",
    "    sbatch_gpu='#SBATCH --gres=gpu:{0}             # Number of GPU(s) per node\\n'.format(sbatch_gpu)"
   ]
  },
  {
   "cell_type": "code",
   "execution_count": 61,
   "id": "db3f99d9",
   "metadata": {},
   "outputs": [
    {
     "data": {
      "text/plain": [
       "'#SBATCH --gres=gpu:1             # Number of GPU(s) per node\\n'"
      ]
     },
     "execution_count": 61,
     "metadata": {},
     "output_type": "execute_result"
    }
   ],
   "source": [
    "sbatch_gpu"
   ]
  },
  {
   "cell_type": "code",
   "execution_count": 62,
   "id": "e592ca1c",
   "metadata": {},
   "outputs": [],
   "source": [
    "# Read exp_job.sh to extract the part that does not need to be changed.\n",
    "with open(exp_job_script_template, encoding='utf8') as exp_job_sh_template_file:\n",
    "    exp_job_sh_content = exp_job_sh_template_file.readlines()\n",
    "    "
   ]
  },
  {
   "cell_type": "code",
   "execution_count": 63,
   "id": "f423684e",
   "metadata": {},
   "outputs": [],
   "source": [
    "# Use '/n' as newline to format the script to UNIX. Otherwise, it will be DOS fromat '\\r\\n'\n",
    "with open(new_exp_job_script, 'w', encoding='utf8', newline='\\n') as new_exp_job_sh_file:\n",
    "    # Write the first 30 lines of the new job script, which needs mild modification according to the job requirements\n",
    "    new_exp_job_sh_file.write('''\\\n",
    "#!/bin/bash\n",
    "#SBATCH --account={0}\n",
    "{1}#SBATCH --nodes={2}                # When requesting GPUs per node the number of nodes must be specified.\n",
    "#SBATCH --ntasks={3}               # number of MPI processes\n",
    "#SBATCH --mem-per-cpu={4}          # memory; default unit is megabytes\n",
    "#SBATCH --time={5}-{6}:{7}         # time (DD-HH:MM)\n",
    "\n",
    "# Define exp_run_time, which will be used by sleep command in exp_run.sh. Make sure to set it to the time \n",
    "# deducted by the time needed for all operations before running the experiment in order to neatly kill \n",
    "# the processes running different modules. For example, if the time for the job is 12 hours and the estimated \n",
    "# all other operations is 10 minutes, then we should set exp_run_time=(12*60-10)m\n",
    "exp_run_time=\"{8}m\"\n",
    "\n",
    "# Setup related directories\n",
    "las_sim_tkt_dir={9}\n",
    "las_sim_tkt_pkg_dir={10}    # saving packages for offline installation\n",
    "las_sim_tkt_dep_dir={11}    # saving installed shared softwares such as Processing, Node, Miniconda, Mujoco\n",
    "las_sim_tkt_data_dir={12}  # saving experiment data\n",
    "\n",
    "# Setup nvidia GPU driver version. To find the driver version, on a compute node, use nvidia-smi to query gpu deriver version:\n",
    "#   output_nv_driver_version=($(nvidia-smi --query-gpu=driver_version --format=csv))    # Turn return as array with ()\n",
    "#   nv_driver_version=${{output_nv_driver_version[1]}}    # Retrieve driver version\n",
    "nv_driver_version={13}             # Graham: 470.103.01, Cedar: 510.47.03\n",
    "if [ -z \"${{nv_driver_version}}\" ]; then\n",
    "    echo \"$nv_driver_version is unset or set to the empty string\"\n",
    "    add_nvdriver=false\n",
    "else\n",
    "    add_nvdriver=true\n",
    "fi\n",
    "'''.format(sbatch_account, sbatch_gpu, sbatch_nodes, sbatch_ntasks, sbatch_mem_per_cpu, \n",
    "           sbatch_time_d, sbatch_time_h, sbatch_time_m, exp_run_time, \n",
    "           las_sim_tkt_dir, las_sim_tkt_pkg_dir, las_sim_tkt_dep_dir, las_sim_tkt_data_dir, nv_driver_version))\n",
    "    \n",
    "    # Write the rest of the exp_job.sh to new job script\n",
    "    for sh_line in exp_job_sh_content[33:]:\n",
    "        new_exp_job_sh_file.write(sh_line)"
   ]
  },
  {
   "cell_type": "markdown",
   "id": "3e601589",
   "metadata": {},
   "source": [
    "## Generate exp_run.sh"
   ]
  },
  {
   "cell_type": "code",
   "execution_count": 37,
   "id": "ed741cb3",
   "metadata": {},
   "outputs": [],
   "source": [
    "exp_run_script_template = './exp_run_tmpl.sh'\n",
    "new_exp_run_script = os.path.join(new_exp_scripts_dir, 'exp_run.sh')"
   ]
  },
  {
   "cell_type": "code",
   "execution_count": 38,
   "id": "db7b41ab",
   "metadata": {},
   "outputs": [],
   "source": [
    "# Read exp_job.sh to extract the part that does not need to be changed.\n",
    "with open(exp_run_script_template, encoding='utf8') as exp_run_script_template_file:\n",
    "    exp_run_sh_content = exp_run_script_template_file.readlines()\n",
    "    "
   ]
  },
  {
   "cell_type": "code",
   "execution_count": 41,
   "id": "307623ed",
   "metadata": {},
   "outputs": [],
   "source": [
    "# Use '/n' as newline to format the script to UNIX. Otherwise, it will be DOS fromat '\\r\\n'\n",
    "with open(new_exp_run_script, 'w', encoding='utf8', newline='\\n') as new_exp_run_sh_file:\n",
    "    # Write the first part of unchanged lines of the new job script\n",
    "    for run_line in exp_run_sh_content[:68]:\n",
    "        new_exp_run_sh_file.write(run_line)\n",
    "    \n",
    "    # Write the part need to be modified\n",
    "    new_exp_run_sh_file.write('''\\\n",
    "# Run python script （Note: this is the part need to be changed for different experiment runs.）\n",
    "if [ -d \"$exp_run_data_dir/PL-Teaching-Data\" ]; then\n",
    "  nohup python $exp_run_code_dir/PL-POMDP/pl/teach.py --resume_exp_dir $exp_run_data_dir/PL-Teaching-Data/exp_name &>$exp_run_data_dir/console_python.out &\n",
    "else\n",
    "  nohup python $exp_run_code_dir/PL-POMDP/pl/teach.py --env_id LAS-Meander --rl_reward_type hc_reward --rl_agent PPO &>$exp_run_data_dir/console_python.out &\n",
    "fi\n",
    "pid_python=$!    # Save PID for later use\n",
    "''')\n",
    "    \n",
    "    # Write the rest lines of the new job script, which needs mild modification according to the job requirements\n",
    "    for run_line in exp_run_sh_content[75:]:\n",
    "        new_exp_run_sh_file.write(run_line)"
   ]
  },
  {
   "cell_type": "markdown",
   "id": "95cc902f",
   "metadata": {},
   "source": [
    "## Submit Job Scripts"
   ]
  },
  {
   "cell_type": "code",
   "execution_count": 13,
   "id": "d148db68",
   "metadata": {},
   "outputs": [
    {
     "ename": "NameError",
     "evalue": "name 'new_job_scripts_dir' is not defined",
     "output_type": "error",
     "traceback": [
      "\u001b[1;31m---------------------------------------------------------------------------\u001b[0m",
      "\u001b[1;31mNameError\u001b[0m                                 Traceback (most recent call last)",
      "\u001b[1;32m~\\AppData\\Local\\Temp/ipykernel_44188/624635364.py\u001b[0m in \u001b[0;36m<module>\u001b[1;34m\u001b[0m\n\u001b[1;32m----> 1\u001b[1;33m \u001b[0mjob_list\u001b[0m \u001b[1;33m=\u001b[0m \u001b[0mos\u001b[0m\u001b[1;33m.\u001b[0m\u001b[0mlistdir\u001b[0m\u001b[1;33m(\u001b[0m\u001b[0mnew_job_scripts_dir\u001b[0m\u001b[1;33m)\u001b[0m\u001b[1;33m\u001b[0m\u001b[1;33m\u001b[0m\u001b[0m\n\u001b[0m",
      "\u001b[1;31mNameError\u001b[0m: name 'new_job_scripts_dir' is not defined"
     ]
    }
   ],
   "source": [
    "job_list = os.listdir(new_job_scripts_dir)"
   ]
  },
  {
   "cell_type": "code",
   "execution_count": null,
   "id": "02180b8b",
   "metadata": {},
   "outputs": [],
   "source": [
    "for job_sh in job_list:\n",
    "    if 'job' in job_sh:\n",
    "        \n",
    "        os.system('bash {} '.format(os.path.join(new_job_scripts_dir, job_sh)))"
   ]
  },
  {
   "cell_type": "code",
   "execution_count": null,
   "id": "2b70d032",
   "metadata": {},
   "outputs": [],
   "source": [
    "os.path.join(new_exp_scripts_dir)"
   ]
  },
  {
   "cell_type": "markdown",
   "id": "af6462f9",
   "metadata": {},
   "source": [
    "## Submit Resumed Job Scripts"
   ]
  },
  {
   "cell_type": "code",
   "execution_count": null,
   "id": "b56ca4dd",
   "metadata": {},
   "outputs": [],
   "source": []
  }
 ],
 "metadata": {
  "kernelspec": {
   "display_name": "Python 3 (ipykernel)",
   "language": "python",
   "name": "python3"
  },
  "language_info": {
   "codemirror_mode": {
    "name": "ipython",
    "version": 3
   },
   "file_extension": ".py",
   "mimetype": "text/x-python",
   "name": "python",
   "nbconvert_exporter": "python",
   "pygments_lexer": "ipython3",
   "version": "3.7.11"
  }
 },
 "nbformat": 4,
 "nbformat_minor": 5
}
